{
  "nbformat": 4,
  "nbformat_minor": 0,
  "metadata": {
    "colab": {
      "name": "HelloWorld.ipynb",
      "provenance": [],
      "authorship_tag": "ABX9TyOg+ovn7V8P55jhXUAWP56o",
      "include_colab_link": true
    },
    "kernelspec": {
      "name": "python3",
      "display_name": "Python 3"
    }
  },
  "cells": [
    {
      "cell_type": "markdown",
      "metadata": {
        "id": "view-in-github",
        "colab_type": "text"
      },
      "source": [
        "<a href=\"https://colab.research.google.com/github/jasmineTG/EDA-Wuhan-Coronavirus-Dataset/blob/master/HelloWorld.ipynb\" target=\"_parent\"><img src=\"https://colab.research.google.com/assets/colab-badge.svg\" alt=\"Open In Colab\"/></a>"
      ]
    },
    {
      "cell_type": "code",
      "metadata": {
        "id": "YOfyon26UkBP"
      },
      "source": [
        "import pandas as pd\r\n",
        "from sklearn.model_selection import train_test_split\r\n",
        "\r\n",
        "music_data = pd.read_csv('music.csv')\r\n",
        "X = music_data.drop(columns=['genre'])\r\n",
        "y = music_data['genre']\r\n",
        "X_train, X_test, y_train, y_test = train_test_split(X, y, test_size=0.2)\r\n"
      ],
      "execution_count": null,
      "outputs": []
    },
    {
      "cell_type": "code",
      "metadata": {
        "colab": {
          "base_uri": "https://localhost:8080/"
        },
        "id": "sO04YbGDT-rH",
        "outputId": "31362ecb-d9a0-4ae6-9230-4633cbc5101a"
      },
      "source": [
        "# Divide the data in to input and output sets \r\n",
        "from sklearn.tree import DecisionTreeClassifier\r\n",
        "from sklearn.metrics import accuracy_score\r\n",
        "\r\n",
        "model = DecisionTreeClassifier()\r\n",
        "model.fit(X_train, y_train)\r\n",
        "predictions = model.predict(X_test)\r\n",
        "\r\n",
        "score = accuracy_score(y_test, predictions)\r\n",
        "score"
      ],
      "execution_count": null,
      "outputs": [
        {
          "output_type": "execute_result",
          "data": {
            "text/plain": [
              "0.75"
            ]
          },
          "metadata": {
            "tags": []
          },
          "execution_count": 36
        }
      ]
    },
    {
      "cell_type": "code",
      "metadata": {
        "colab": {
          "base_uri": "https://localhost:8080/"
        },
        "id": "sKi9i66UYYdC",
        "outputId": "5094b23e-8806-494b-d9c8-7f4b5f96ce33"
      },
      "source": [
        "predictions = model.predict([[32, 0]])\r\n",
        "predictions"
      ],
      "execution_count": null,
      "outputs": [
        {
          "output_type": "execute_result",
          "data": {
            "text/plain": [
              "array(['Classical'], dtype=object)"
            ]
          },
          "metadata": {
            "tags": []
          },
          "execution_count": 37
        }
      ]
    },
    {
      "cell_type": "code",
      "metadata": {
        "id": "ZBGkmutwZCLh"
      },
      "source": [
        "from sklearn import tree \r\n",
        "\r\n",
        "tree.export_graphviz(model, out_file='music-recommender.dot', feature_names=['age', 'gender'], class_names=sorted(y.unique()), label='all', rounded=True, filled=True)"
      ],
      "execution_count": null,
      "outputs": []
    }
  ]
}